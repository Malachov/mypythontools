{
 "cells": [
  {
   "cell_type": "code",
   "execution_count": 1,
   "metadata": {},
   "outputs": [
    {
     "name": "stdout",
     "output_type": "stream",
     "text": [
      "CPU times: total: 172 ms\n",
      "Wall time: 170 ms\n"
     ]
    }
   ],
   "source": [
    "%%timeit\n",
    "try:\n",
    "    import numpy\n",
    "    \n",
    "except  ModuleNotFoundError:\n",
    "    raise ModuleNotFoundError(\"asd\")\n",
    "  "
   ]
  },
  {
   "cell_type": "code",
   "execution_count": 3,
   "metadata": {},
   "outputs": [
    {
     "name": "stdout",
     "output_type": "stream",
     "text": [
      "CPU times: total: 0 ns\n",
      "Wall time: 0 ns\n"
     ]
    }
   ],
   "source": [
    "%%timeit\n",
    "import importlib\n",
    "if not importlib.util.find_spec(\"numpy\"):\n",
    "    raise ModuleNotFoundError(\"asd\")\n"
   ]
  },
  {
   "cell_type": "code",
   "execution_count": null,
   "metadata": {},
   "outputs": [],
   "source": []
  }
 ],
 "metadata": {
  "kernelspec": {
   "display_name": "Python 3.10.4 ('venv': venv)",
   "language": "python",
   "name": "python3"
  },
  "language_info": {
   "codemirror_mode": {
    "name": "ipython",
    "version": 3
   },
   "file_extension": ".py",
   "mimetype": "text/x-python",
   "name": "python",
   "nbconvert_exporter": "python",
   "pygments_lexer": "ipython3",
   "version": "3.10.4"
  },
  "vscode": {
   "interpreter": {
    "hash": "6092ba0cc766127c61108f9b1212df92e3f3a69dc01cdbda6767b6ac9b4f5ae4"
   }
  }
 },
 "nbformat": 4,
 "nbformat_minor": 2
}
